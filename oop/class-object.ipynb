{
 "cells": [
  {
   "cell_type": "code",
   "execution_count": 2,
   "metadata": {},
   "outputs": [
    {
     "name": "stdout",
     "output_type": "stream",
     "text": [
      "Pritha has 2 eyes\n"
     ]
    }
   ],
   "source": [
    "class Human: # defining class\n",
    "    nose = 1\n",
    "    eyes = 2\n",
    "\n",
    "pritha = Human() # creating an object of Human class\n",
    "apabrita = Human() # creating another object\n",
    "\n",
    "# Pritha has 2 eyes\n",
    "print(f\"Pritha has {pritha.eyes} eyes\")"
   ]
  },
  {
   "cell_type": "code",
   "execution_count": 8,
   "metadata": {},
   "outputs": [
    {
     "name": "stdout",
     "output_type": "stream",
     "text": [
      "h1's name is Nabanita\n",
      "h1's age is 18\n",
      "h2's name is Shreyasi\n",
      "h2's age is None\n"
     ]
    }
   ],
   "source": [
    "class Human:\n",
    "    name = None\n",
    "    age = None\n",
    "    eyes = 2\n",
    "\n",
    "# main\n",
    "h1 = Human() #real life object\n",
    "h1.name = \"Nabanita\"\n",
    "h1.age = 18\n",
    "\n",
    "h2 = Human()\n",
    "h2.name = \"Shreyasi\"\n",
    "\n",
    "\n",
    "print(f\"h1's name is {h1.name}\")\n",
    "print(f\"h1's age is {h1.age}\")\n",
    "\n",
    "print(f\"h2's name is {h2.name}\")\n",
    "print(f\"h2's age is {h2.age}\")"
   ]
  },
  {
   "cell_type": "code",
   "execution_count": 23,
   "metadata": {},
   "outputs": [
    {
     "name": "stdout",
     "output_type": "stream",
     "text": [
      "I love to code !\n",
      "I love to code !\n",
      "I love to code !\n"
     ]
    },
    {
     "data": {
      "text/plain": [
       "'\\n# alternative way\\n\\nCoder.hobby(a)\\nCoder.hobby(b)\\nCoder.hobby(c)\\n'"
      ]
     },
     "execution_count": 23,
     "metadata": {},
     "output_type": "execute_result"
    }
   ],
   "source": [
    "class Coder:\n",
    "    # attribute\n",
    "    name = None\n",
    "\n",
    "    # method\n",
    "    def hobby(self):\n",
    "        print(\"I love to code !\")\n",
    "\n",
    "a = Coder() # creating object\n",
    "b = Coder() # creating object\n",
    "c = Coder() # creating object\n",
    "\n",
    "a.hobby()\n",
    "b.hobby()\n",
    "c.hobby()\n",
    "\n",
    "'''\n",
    "# alternative way\n",
    "\n",
    "Coder.hobby(a)\n",
    "Coder.hobby(b)\n",
    "Coder.hobby(c)\n",
    "'''\n"
   ]
  },
  {
   "cell_type": "code",
   "execution_count": 29,
   "metadata": {},
   "outputs": [
    {
     "name": "stdout",
     "output_type": "stream",
     "text": [
      "Avik loves to code !\n",
      "Blob loves to code !\n",
      "Charizard loves to code !\n"
     ]
    }
   ],
   "source": [
    "class Coder:\n",
    "    # attribute\n",
    "    name = None\n",
    "\n",
    "    # method\n",
    "    def hobby(self, name):\n",
    "        print(f\"{name} loves to code !\")\n",
    "\n",
    "a = Coder() # creating object\n",
    "b = Coder() # creating object\n",
    "c = Coder() # creating object\n",
    "\n",
    "a.hobby(\"Avik\")\n",
    "# b.hobby(\"Blob\")\n",
    "Coder.hobby(b, \"Blob\")\n",
    "c.hobby(\"Charizard\")\n"
   ]
  }
 ],
 "metadata": {
  "kernelspec": {
   "display_name": "Python 3",
   "language": "python",
   "name": "python3"
  },
  "language_info": {
   "codemirror_mode": {
    "name": "ipython",
    "version": 3
   },
   "file_extension": ".py",
   "mimetype": "text/x-python",
   "name": "python",
   "nbconvert_exporter": "python",
   "pygments_lexer": "ipython3",
   "version": "3.11.4"
  },
  "orig_nbformat": 4
 },
 "nbformat": 4,
 "nbformat_minor": 2
}
