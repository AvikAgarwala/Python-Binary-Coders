{
 "cells": [
  {
   "cell_type": "code",
   "execution_count": 7,
   "metadata": {},
   "outputs": [
    {
     "name": "stdout",
     "output_type": "stream",
     "text": [
      "Avik 20\n",
      "Sayantana 18\n"
     ]
    }
   ],
   "source": [
    "class Human:\n",
    "    def set_details(self, x, y):\n",
    "        self.name = x\n",
    "        self.age = y\n",
    "\n",
    "h1 = Human()\n",
    "h1.set_details(\"Avik\", 20)\n",
    "\n",
    "h2 = Human()\n",
    "h2.set_details(\"Sayantana\", 18)\n",
    "\n",
    "print(h1.name, h1.age)\n",
    "print(h2.name, h2.age)"
   ]
  },
  {
   "cell_type": "code",
   "execution_count": 32,
   "metadata": {},
   "outputs": [
    {
     "name": "stdout",
     "output_type": "stream",
     "text": [
      "Constructor has been called!\n",
      "Constructor has been called!\n",
      "Constructor has been called!\n"
     ]
    }
   ],
   "source": [
    "class Human:\n",
    "    def __init__(self): # called when object is created\n",
    "        print(\"Constructor has been called!\")\n",
    "\n",
    "h1 = Human()\n",
    "h2 = Human()\n",
    "\n",
    "# alternative way\n",
    "h3 = None\n",
    "Human.__init__(h3)"
   ]
  },
  {
   "cell_type": "code",
   "execution_count": 28,
   "metadata": {},
   "outputs": [
    {
     "name": "stdout",
     "output_type": "stream",
     "text": [
      "Avik 20\n",
      "Priyam 17\n"
     ]
    }
   ],
   "source": [
    "class Human:\n",
    "    def __init__(self, name, age): # called when object is created\n",
    "        self.name = name\n",
    "        self.age = age\n",
    "        '''\n",
    "        self.name --> name is class variable\n",
    "        name --> name is local variable passed to method\n",
    "        '''\n",
    "\n",
    "# create object\n",
    "h1 = Human(\"Avik\", 20)\n",
    "# alternative way\n",
    "Human.__init__(h2, \"Priyam\", 17)\n",
    "\n",
    "print(h1.name, h1.age)\n",
    "print(h2.name, h2.age)\n"
   ]
  }
 ],
 "metadata": {
  "kernelspec": {
   "display_name": "Python 3",
   "language": "python",
   "name": "python3"
  },
  "language_info": {
   "codemirror_mode": {
    "name": "ipython",
    "version": 3
   },
   "file_extension": ".py",
   "mimetype": "text/x-python",
   "name": "python",
   "nbconvert_exporter": "python",
   "pygments_lexer": "ipython3",
   "version": "3.11.4"
  },
  "orig_nbformat": 4
 },
 "nbformat": 4,
 "nbformat_minor": 2
}
