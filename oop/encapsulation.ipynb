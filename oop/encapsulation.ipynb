{
 "cells": [
  {
   "cell_type": "code",
   "execution_count": 9,
   "metadata": {},
   "outputs": [
    {
     "name": "stdout",
     "output_type": "stream",
     "text": [
      "abc\n"
     ]
    }
   ],
   "source": [
    "class User:\n",
    "    __username = 'markopolo'\n",
    "    __password = 'abc'\n",
    "\n",
    "    def get_credentials(self):\n",
    "        passkey = input(\"Enter passkey to view credentials : \")\n",
    "        if passkey == \"123\":\n",
    "            print(self.__password)\n",
    "        else:\n",
    "            print(\"Wrong passkey!\")\n",
    "\n",
    "\n",
    "u = User()\n",
    "u.get_credentials()"
   ]
  },
  {
   "cell_type": "code",
   "execution_count": 16,
   "metadata": {},
   "outputs": [
    {
     "name": "stdout",
     "output_type": "stream",
     "text": [
      "Hello\n"
     ]
    }
   ],
   "source": [
    "class Test:\n",
    "\n",
    "    def __pvt_method(self):\n",
    "        print(\"Hello\")\n",
    "\n",
    "    def test(self):\n",
    "        self.__pvt_method()\n",
    "\n",
    "u = Test()\n",
    "u.test()"
   ]
  }
 ],
 "metadata": {
  "kernelspec": {
   "display_name": "Python 3",
   "language": "python",
   "name": "python3"
  },
  "language_info": {
   "codemirror_mode": {
    "name": "ipython",
    "version": 3
   },
   "file_extension": ".py",
   "mimetype": "text/x-python",
   "name": "python",
   "nbconvert_exporter": "python",
   "pygments_lexer": "ipython3",
   "version": "3.11.4"
  },
  "orig_nbformat": 4
 },
 "nbformat": 4,
 "nbformat_minor": 2
}
