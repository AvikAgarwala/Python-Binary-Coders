{
 "cells": [
  {
   "cell_type": "code",
   "execution_count": 1,
   "metadata": {},
   "outputs": [
    {
     "name": "stdout",
     "output_type": "stream",
     "text": [
      "Starting of program...\n",
      "Hello Avik\n",
      "Calling again...\n",
      "Hello Sumit\n"
     ]
    }
   ],
   "source": [
    "# function definition\n",
    "def greet():\n",
    "    name = input(\"Enter your name : \")\n",
    "    print(\"Hello\", name)\n",
    "\n",
    "# start of main\n",
    "print(\"Starting of program...\")\n",
    "greet()\n",
    "print(\"Calling again...\")\n",
    "greet()"
   ]
  },
  {
   "cell_type": "code",
   "execution_count": 8,
   "metadata": {},
   "outputs": [
    {
     "name": "stdout",
     "output_type": "stream",
     "text": [
      "Hello Avik\n"
     ]
    }
   ],
   "source": [
    "def greet(x):\n",
    "    print(\"Hello\", x)\n",
    "\n",
    "# main\n",
    "name = input(\"Enter your name: \")\n",
    "greet(name)\n"
   ]
  },
  {
   "cell_type": "code",
   "execution_count": 9,
   "metadata": {},
   "outputs": [
    {
     "name": "stdout",
     "output_type": "stream",
     "text": [
      "Hello Avik\n"
     ]
    }
   ],
   "source": [
    "def greet(name):\n",
    "    print(\"Hello\", name)\n",
    "\n",
    "# main\n",
    "name = input(\"Enter your name: \")\n",
    "greet(name)\n"
   ]
  },
  {
   "cell_type": "code",
   "execution_count": 10,
   "metadata": {},
   "outputs": [
    {
     "name": "stdout",
     "output_type": "stream",
     "text": [
      "Sum is 11\n"
     ]
    }
   ],
   "source": [
    "def sum(x, y):\n",
    "    ans = x + y\n",
    "    return ans\n",
    "\n",
    "\n",
    "x = int(input(\"Enter first number: \"))\n",
    "y = int(input(\"Enter second number: \"))\n",
    "result = sum(x, y)\n",
    "print(f\"Sum is {result}\")"
   ]
  },
  {
   "cell_type": "code",
   "execution_count": 13,
   "metadata": {},
   "outputs": [
    {
     "name": "stdout",
     "output_type": "stream",
     "text": [
      "Sum is 11\n"
     ]
    }
   ],
   "source": [
    "def sum(x, y):\n",
    "    # ans = x + y\n",
    "    return x + y\n",
    "\n",
    "\n",
    "x = int(input(\"Enter first number: \"))\n",
    "y = int(input(\"Enter second number: \"))\n",
    "# result = sum(x, y)\n",
    "# print(f\"Sum is {result}\")\n",
    "print(f\"Sum is {sum(x, y)}\")"
   ]
  },
  {
   "cell_type": "code",
   "execution_count": 17,
   "metadata": {},
   "outputs": [
    {
     "ename": "TypeError",
     "evalue": "sum() missing 1 required positional argument: 'y'",
     "output_type": "error",
     "traceback": [
      "\u001b[1;31m---------------------------------------------------------------------------\u001b[0m",
      "\u001b[1;31mTypeError\u001b[0m                                 Traceback (most recent call last)",
      "Cell \u001b[1;32mIn[17], line 5\u001b[0m\n\u001b[0;32m      1\u001b[0m \u001b[39mdef\u001b[39;00m \u001b[39msum\u001b[39m(x, y):\n\u001b[0;32m      2\u001b[0m     \u001b[39mreturn\u001b[39;00m x \u001b[39m+\u001b[39m y\n\u001b[1;32m----> 5\u001b[0m \u001b[39mprint\u001b[39m(\u001b[39mf\u001b[39m\u001b[39m\"\u001b[39m\u001b[39mSum is \u001b[39m\u001b[39m{\u001b[39;00m\u001b[39msum\u001b[39;49m(\u001b[39m5\u001b[39;49m)\u001b[39m}\u001b[39;00m\u001b[39m\"\u001b[39m)\n",
      "\u001b[1;31mTypeError\u001b[0m: sum() missing 1 required positional argument: 'y'"
     ]
    }
   ],
   "source": [
    "def sum(x, y):\n",
    "    return x + y\n",
    "\n",
    "\n",
    "print(f\"Sum is {sum(5)}\")"
   ]
  },
  {
   "cell_type": "code",
   "execution_count": 19,
   "metadata": {},
   "outputs": [
    {
     "name": "stdout",
     "output_type": "stream",
     "text": [
      "Sum is 10\n",
      "Sum is 11\n"
     ]
    }
   ],
   "source": [
    "def sum(x, y = 6): # 6 will be considered if y is not passed\n",
    "    return x + y\n",
    "\n",
    "\n",
    "print(f\"Sum is {sum(5, 5)}\")\n",
    "print(f\"Sum is {sum(5)}\")"
   ]
  },
  {
   "cell_type": "code",
   "execution_count": 33,
   "metadata": {},
   "outputs": [
    {
     "name": "stdout",
     "output_type": "stream",
     "text": [
      "Hello\n"
     ]
    }
   ],
   "source": [
    "def greet():\n",
    "    print(\"Hello\")\n",
    "\n",
    "def i_dont_know(): # to be implemented later\n",
    "    pass # to avoid error\n",
    "\n",
    "# main\n",
    "greet()\n",
    "i_dont_know()"
   ]
  }
 ],
 "metadata": {
  "kernelspec": {
   "display_name": "Python 3",
   "language": "python",
   "name": "python3"
  },
  "language_info": {
   "codemirror_mode": {
    "name": "ipython",
    "version": 3
   },
   "file_extension": ".py",
   "mimetype": "text/x-python",
   "name": "python",
   "nbconvert_exporter": "python",
   "pygments_lexer": "ipython3",
   "version": "3.11.4"
  },
  "orig_nbformat": 4
 },
 "nbformat": 4,
 "nbformat_minor": 2
}
