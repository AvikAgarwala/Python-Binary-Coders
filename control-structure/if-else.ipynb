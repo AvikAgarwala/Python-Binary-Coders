{
 "cells": [
  {
   "cell_type": "code",
   "execution_count": 1,
   "metadata": {},
   "outputs": [],
   "source": [
    "a = 5\n",
    "b = 3"
   ]
  },
  {
   "cell_type": "code",
   "execution_count": 2,
   "metadata": {},
   "outputs": [
    {
     "name": "stdout",
     "output_type": "stream",
     "text": [
      "A is greater\n",
      "Hello\n"
     ]
    }
   ],
   "source": [
    "if a > b:\n",
    "    print(\"A is greater\")\n",
    "    print(\"Hello\")\n",
    "else:\n",
    "    print(\"B is greater\")\n",
    "    print(\"Bye\")"
   ]
  },
  {
   "cell_type": "code",
   "execution_count": 3,
   "metadata": {},
   "outputs": [],
   "source": [
    "c = 3\n",
    "d = 5"
   ]
  },
  {
   "cell_type": "code",
   "execution_count": 4,
   "metadata": {},
   "outputs": [
    {
     "name": "stdout",
     "output_type": "stream",
     "text": [
      "D is greater\n",
      "Bye\n"
     ]
    }
   ],
   "source": [
    "if c > d:\n",
    "    print(\"C is greater\")\n",
    "    print(\"Hello\")\n",
    "else:\n",
    "    print(\"D is greater\")\n",
    "    print(\"Bye\")"
   ]
  }
 ],
 "metadata": {
  "kernelspec": {
   "display_name": "Python 3",
   "language": "python",
   "name": "python3"
  },
  "language_info": {
   "codemirror_mode": {
    "name": "ipython",
    "version": 3
   },
   "file_extension": ".py",
   "mimetype": "text/x-python",
   "name": "python",
   "nbconvert_exporter": "python",
   "pygments_lexer": "ipython3",
   "version": "3.11.4"
  },
  "orig_nbformat": 4
 },
 "nbformat": 4,
 "nbformat_minor": 2
}
